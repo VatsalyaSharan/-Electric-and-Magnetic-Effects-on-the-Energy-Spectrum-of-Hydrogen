{
 "cells": [
  {
   "cell_type": "markdown",
   "metadata": {
    "id": "eyRm-n3qu4Ah"
   },
   "source": [
    "# NM Project Group-2"
   ]
  },
  {
   "cell_type": "markdown",
   "metadata": {
    "id": "IPRRLTFWKEwM"
   },
   "source": [
    "# Stark effect"
   ]
  },
  {
   "cell_type": "markdown",
   "metadata": {
    "id": "NzQ7-mDQITkk"
   },
   "source": [
    "\n",
    "\n",
    "# Calculating the matrix elements using pre-defined functions"
   ]
  },
  {
   "cell_type": "code",
   "execution_count": 1,
   "metadata": {},
   "outputs": [
    {
     "data": {
      "application/javascript": [
       "IPython.OutputArea.prototype._should_scroll = function(lines) {\n",
       "    return false;\n",
       "}\n"
      ],
      "text/plain": [
       "<IPython.core.display.Javascript object>"
      ]
     },
     "metadata": {},
     "output_type": "display_data"
    }
   ],
   "source": [
    "%%javascript\n",
    "IPython.OutputArea.prototype._should_scroll = function(lines) {\n",
    "    return false;\n",
    "}"
   ]
  },
  {
   "cell_type": "code",
   "execution_count": 2,
   "metadata": {
    "colab": {
     "base_uri": "https://localhost:8080/"
    },
    "id": "9SDcuAMeG2qO",
    "outputId": "22c9a50d-f4b2-449e-d1dd-b7097eefbab4"
   },
   "outputs": [
    {
     "ename": "ModuleNotFoundError",
     "evalue": "No module named 'sympy'",
     "output_type": "error",
     "traceback": [
      "\u001b[1;31m---------------------------------------------------------------------------\u001b[0m",
      "\u001b[1;31mModuleNotFoundError\u001b[0m                       Traceback (most recent call last)",
      "\u001b[1;32m<ipython-input-2-662d0916c0c0>\u001b[0m in \u001b[0;36m<module>\u001b[1;34m\u001b[0m\n\u001b[0;32m      1\u001b[0m \u001b[1;32mimport\u001b[0m \u001b[0mwarnings\u001b[0m\u001b[1;33m\u001b[0m\u001b[1;33m\u001b[0m\u001b[0m\n\u001b[0;32m      2\u001b[0m \u001b[0mwarnings\u001b[0m\u001b[1;33m.\u001b[0m\u001b[0mfilterwarnings\u001b[0m\u001b[1;33m(\u001b[0m\u001b[1;34m\"ignore\"\u001b[0m\u001b[1;33m)\u001b[0m\u001b[1;33m\u001b[0m\u001b[1;33m\u001b[0m\u001b[0m\n\u001b[1;32m----> 3\u001b[1;33m \u001b[1;32mfrom\u001b[0m \u001b[0msympy\u001b[0m\u001b[1;33m.\u001b[0m\u001b[0mphysics\u001b[0m\u001b[1;33m.\u001b[0m\u001b[0mhydrogen\u001b[0m \u001b[1;32mimport\u001b[0m \u001b[0mPsi_nlm\u001b[0m\u001b[1;33m\u001b[0m\u001b[1;33m\u001b[0m\u001b[0m\n\u001b[0m\u001b[0;32m      4\u001b[0m \u001b[1;32mfrom\u001b[0m \u001b[0msympy\u001b[0m \u001b[1;32mimport\u001b[0m \u001b[0mintegrate\u001b[0m\u001b[1;33m\u001b[0m\u001b[1;33m\u001b[0m\u001b[0m\n\u001b[0;32m      5\u001b[0m \u001b[1;32mfrom\u001b[0m \u001b[0msympy\u001b[0m \u001b[1;32mimport\u001b[0m \u001b[0mconjugate\u001b[0m\u001b[1;33m\u001b[0m\u001b[1;33m\u001b[0m\u001b[0m\n",
      "\u001b[1;31mModuleNotFoundError\u001b[0m: No module named 'sympy'"
     ]
    }
   ],
   "source": [
    "import warnings\n",
    "warnings.filterwarnings(\"ignore\")\n",
    "from sympy.physics.hydrogen import Psi_nlm\n",
    "from sympy import integrate\n",
    "from sympy import conjugate\n",
    "from sympy import pi\n",
    "from sympy import oo\n",
    "from sympy import cos\n",
    "from sympy import sin\n",
    "from sympy import Symbol\n",
    "\n",
    "r=Symbol(\"r\", real=True, positive=True)\n",
    "phi=Symbol(\"phi\", real=True)\n",
    "theta=Symbol(\"theta\", real=True)\n",
    "\n",
    "wf1 = Psi_nlm(3, 0, 0, r, phi, theta, 1)\n",
    "wf2 = Psi_nlm(3, 1, 0, r, phi, theta, 1)\n",
    "wf3 = Psi_nlm(3, 1, -1, r, phi, theta, 1)\n",
    "wf4 = Psi_nlm(3, 2, -1, r, phi, theta, 1)\n",
    "wf5 = Psi_nlm(3, 1, 1, r, phi, theta, 1)\n",
    "wf6 = Psi_nlm(3, 2, 1, r, phi, theta, 1)\n",
    "wf7 = Psi_nlm(3, 2, 0, r, phi, theta, 1)\n",
    "\n",
    "pert = r*cos(theta)\n",
    "\n",
    "E1=integrate(-conjugate(wf1)*wf2*pert*r*r*sin(theta), (r, 0, oo), (phi, 0, 2*pi), (theta, 0, pi))\n",
    "print(float(E1))\n",
    "E4=integrate(-conjugate(wf2)*wf7*pert*r*r*sin(theta), (r, 0, oo), (phi, 0, 2*pi), (theta, 0, pi))\n",
    "print(float(E4))\n",
    "E2=integrate(-conjugate(wf3)*wf4*pert*r*r*sin(theta), (r, 0, oo), (phi, 0, 2*pi), (theta, 0, pi))\n",
    "print(float(E2))\n",
    "E3=integrate(-conjugate(wf5)*wf6*pert*r*r*sin(theta), (r, 0, oo), (phi, 0, 2*pi), (theta, 0, pi))\n",
    "print(float(E3))"
   ]
  },
  {
   "cell_type": "markdown",
   "metadata": {
    "id": "1TFRD965IHQ-"
   },
   "source": [
    "# Defining integration functions (Newton-Cotes)"
   ]
  },
  {
   "cell_type": "code",
   "execution_count": null,
   "metadata": {
    "id": "Tm2VMDUheRev"
   },
   "outputs": [],
   "source": [
    "import math\n",
    "import numpy as np\n",
    "\n",
    "def trapezoidal(f,a,b,n):\n",
    "  h=(b-a)/n\n",
    "  x=[]\n",
    "  y=[]\n",
    "  for i in range(n+1): y.append(f(a+h*i)),x.append(a+h*i)\n",
    "  integral=(y[0]+y[n])/2\n",
    "  for i in range(1,n):\n",
    "    integral += y[i]\n",
    "  return h*integral\n",
    "\n",
    "def simpson13(f,a,b,n):\n",
    "  h=(b-a)/n\n",
    "  y=[]\n",
    "  x=[]\n",
    "  for i in range(n+1): y.append(f(a+h*i)),x.append(a+h*i)\n",
    "  integral=y[0]+y[n]\n",
    "  for i in range(1,n):\n",
    "    integral += (2+2*(i%2))*y[i]\n",
    "  return (h/3)*integral\n",
    "\n",
    "def simpson38(f,a,b,n):\n",
    "  h=(b-a)/n\n",
    "  y=[]\n",
    "  x=[]\n",
    "  for i in range(n+1): y.append(f(a+h*i)),x.append(a+h*i)\n",
    "  integral=0\n",
    "  for i in range(0,n,3):\n",
    "    integral += y[i]+3*y[i+1]+3*y[i+2]+y[i+3];\n",
    "  return (3*h/8)*integral\n"
   ]
  },
  {
   "cell_type": "markdown",
   "metadata": {
    "id": "EksznJdaej67"
   },
   "source": [
    "\n",
    "# Romberg integration"
   ]
  },
  {
   "cell_type": "code",
   "execution_count": null,
   "metadata": {
    "id": "_7HeP0_7bs1k"
   },
   "outputs": [],
   "source": [
    "def romberg(f, a, b, p, t):\n",
    "\n",
    "    I = np.zeros((p, p))\n",
    "    I_t = np.zeros(p)\n",
    "    for i in range(0, p):\n",
    "        I[i, 0] = trapezoidal(f, a, b, 2**(i+5))\n",
    "\n",
    "    for k in range(1,p):\n",
    "        for j in range(0,p-k):\n",
    "            if(j+1!=p):\n",
    "                I[j,k]=(4**(k)*I[j+1,k-1]-I[j,k-1])/(4**(k)-1)\n",
    "            else:\n",
    "                break\n",
    "    ea=np.zeros(p)\n",
    "    for z in range(1,p):\n",
    "        ea=abs((I[0,z]-I[1,z-1])/I[0,z])*100\n",
    "        I_t[z] = I[0, z]\n",
    "        if(ea<t):\n",
    "            break\n",
    "    print(z, I_t[z]) "
   ]
  },
  {
   "cell_type": "markdown",
   "metadata": {
    "id": "OKMk7YYGIkDv"
   },
   "source": [
    "# Using integration functions to calculate matrix elements"
   ]
  },
  {
   "cell_type": "code",
   "execution_count": null,
   "metadata": {
    "id": "W8DaCZ57eYbk"
   },
   "outputs": [],
   "source": [
    "def Psi_300_310_radial(r):\n",
    "  return float(r*r*r*r*(6-r)*(27-18*r+2*r*r)*math.exp(-(2*r/3))) "
   ]
  },
  {
   "cell_type": "code",
   "execution_count": null,
   "metadata": {
    "colab": {
     "base_uri": "https://localhost:8080/"
    },
    "id": "PCiEDE0DcLV6",
    "outputId": "3da05297-f284-4ab3-b3cc-3470d1fa7618"
   },
   "outputs": [],
   "source": [
    "romberg(Psi_300_310_radial,0,1000,14,1e-18)\n",
    "romberg(Psi_300_310_radial,0,10000,17,1e-18)\n",
    "romberg(Psi_300_310_radial,0,100000,20,1e-18)\n",
    "print('Rounding off to 3 decimal places, all 3 upper limits give the same result, roughly -44286.750.')"
   ]
  },
  {
   "cell_type": "code",
   "execution_count": null,
   "metadata": {
    "colab": {
     "base_uri": "https://localhost:8080/"
    },
    "id": "q6HDlLcDkfS4",
    "outputId": "ff0b7c39-95ca-4ce1-9fc1-c1dc7dae702e"
   },
   "outputs": [],
   "source": [
    "radint=simpson38(Psi_300_310_radial,0,1000,9999) \n",
    "print(\"Simpson 3/8 rule till 1000 with h=0.1: \", radint)\n",
    "radint=simpson38(Psi_300_310_radial,0,10000,99990)\n",
    "print(\"Simpson 3/8 rule till 10000 with h=0.1: \", radint)\n",
    "radint=simpson38(Psi_300_310_radial,0,100000,999900)\n",
    "print(\"Simpson 3/8 rule till 100000 with h=0.1: \", radint)\n",
    "radint=simpson13(Psi_300_310_radial,0,1000,10000)\n",
    "print(\"Simpson 1/3 rule till 1000 with h=0.1: \", radint)\n",
    "radint=simpson13(Psi_300_310_radial,0,10000,100000)\n",
    "print(\"Simpson 1/3 rule till 10000 with h=0.1: \", radint)\n",
    "radint=simpson13(Psi_300_310_radial,0,100000,1000000)\n",
    "print(\"Simpson 1/3 rule till 100000 with h=0.1: \", radint)\n",
    "radint=trapezoidal(Psi_300_310_radial,0,1000,10000)\n",
    "print(\"Trapezoidal rule till 1000 with h=0.1: \", radint)\n",
    "radint=trapezoidal(Psi_300_310_radial,0,10000,100000)\n",
    "print(\"Trapezoidal rule till 10000 with h=0.1: \", radint)\n",
    "radint=trapezoidal(Psi_300_310_radial,0,100000,1000000)\n",
    "print(\"Trapezoidal rule till 100000 with h=0.1: \", radint)\n",
    "\n",
    "print(\"For a given step size, the integrals calculated for upper limits 1000, 10000 and 100000 yield the same result for each of the algorithms (upto maximum precision).\")\n",
    "print(\"Furthermore, rounding off to 3 decimal points, all 3 algorithms yield the same result.\")\n",
    "print(\"This is roughly -44286.750.\")"
   ]
  },
  {
   "cell_type": "code",
   "execution_count": null,
   "metadata": {
    "id": "xMGDhnIKk06y"
   },
   "outputs": [],
   "source": [
    "radint=-44286.75\n",
    "fac_300_310=float((-4*math.sqrt(2))/(3*math.sqrt(3)*81*81))"
   ]
  },
  {
   "cell_type": "code",
   "execution_count": null,
   "metadata": {
    "colab": {
     "base_uri": "https://localhost:8080/"
    },
    "id": "4BJWoAK8lhuF",
    "outputId": "5e259787-c692-4ea4-a936-65acd249dd90"
   },
   "outputs": [],
   "source": [
    "matrix1=radint*fac_300_310\n",
    "print(\"M_13 = M_31 =\", matrix1)"
   ]
  },
  {
   "cell_type": "code",
   "execution_count": null,
   "metadata": {
    "id": "J7sYf70hRFY4"
   },
   "outputs": [],
   "source": [
    "def Psi_310_320_radial(r):\n",
    "  return float(r*r*r*r*r*r*(6-r)*math.exp(-(2*r/3)))"
   ]
  },
  {
   "cell_type": "code",
   "execution_count": null,
   "metadata": {
    "colab": {
     "base_uri": "https://localhost:8080/"
    },
    "id": "ib3CN0e4TYQq",
    "outputId": "8d9c6026-ead1-4e70-aff7-8a856249039b"
   },
   "outputs": [],
   "source": [
    "romberg(Psi_310_320_radial,0,1000,14,1e-18)\n",
    "romberg(Psi_310_320_radial,0,10000,17,1e-18)\n",
    "romberg(Psi_310_320_radial,0,100000,20,1e-18)\n",
    "print('Rounding off to 3 decimal places, all 3 upper limits give the same result, roughly -55358.437.')"
   ]
  },
  {
   "cell_type": "code",
   "execution_count": null,
   "metadata": {
    "colab": {
     "base_uri": "https://localhost:8080/"
    },
    "id": "S-2mZOHHR23L",
    "outputId": "66cea75e-59fa-4869-ee0a-efd5486d50f9"
   },
   "outputs": [],
   "source": [
    "radint=simpson38(Psi_310_320_radial,0,1000,9999)\n",
    "print(\"Simpson 3/8 rule till 1000 with h=0.1: \", radint)\n",
    "radint=simpson38(Psi_310_320_radial,0,10000,99990)\n",
    "print(\"Simpson 3/8 rule till 10000 with h=0.1: \", radint)\n",
    "radint=simpson38(Psi_310_320_radial,0,100000,999900)\n",
    "print(\"Simpson 3/8 rule till 100000 with h=0.1: \", radint)\n",
    "radint=simpson13(Psi_310_320_radial,0,1000,10000)\n",
    "print(\"Simpson 1/3 rule till 1000 with h=0.1: \", radint)\n",
    "radint=simpson13(Psi_310_320_radial,0,10000,100000)\n",
    "print(\"Simpson 1/3 rule till 10000 with h=0.1: \", radint)\n",
    "radint=simpson13(Psi_310_320_radial,0,100000,1000000)\n",
    "print(\"Simpson 1/3 rule till 100000 with h=0.1: \", radint)\n",
    "radint=trapezoidal(Psi_310_320_radial,0,1000,10000)\n",
    "print(\"Trapezoidal rule till 1000 with h=0.1: \", radint)\n",
    "radint=trapezoidal(Psi_310_320_radial,0,10000,100000)\n",
    "print(\"Trapezoidal rule till 10000 with h=0.1: \", radint)\n",
    "radint=trapezoidal(Psi_310_320_radial,0,100000,1000000)\n",
    "print(\"Trapezoidal rule till 100000 with h=0.1: \", radint)\n",
    "\n",
    "print(\"For a given step size, the integrals calculated for upper limits 1000, 10000 and 100000 yield the same result for each of the algorithms (upto maximum precision).\")\n",
    "print(\"Furthermore, rounding off to 3 decimal points, all 3 algorithms yield the same result.\")\n",
    "print(\"This is roughly -55358.437.\")"
   ]
  },
  {
   "cell_type": "code",
   "execution_count": null,
   "metadata": {
    "id": "bPQRVfe7SVqu"
   },
   "outputs": [],
   "source": [
    "radint=-55358.437\n",
    "fac_310_320=float((-8*2)/(81*81*15*math.sqrt(3)))"
   ]
  },
  {
   "cell_type": "code",
   "execution_count": null,
   "metadata": {
    "colab": {
     "base_uri": "https://localhost:8080/"
    },
    "id": "Xdi6gPKAT-fQ",
    "outputId": "b2a99fed-974a-4fc5-a3f0-a2758fac5fd5"
   },
   "outputs": [],
   "source": [
    "matrix2=radint*fac_310_320\n",
    "print(\"M_37 = M_73 =\", matrix2)"
   ]
  },
  {
   "cell_type": "code",
   "execution_count": null,
   "metadata": {
    "id": "ibJhyd8wVq3L"
   },
   "outputs": [],
   "source": [
    "fac_31pm1_32pm1=float((-16)/(81*81*30))"
   ]
  },
  {
   "cell_type": "code",
   "execution_count": null,
   "metadata": {
    "colab": {
     "base_uri": "https://localhost:8080/"
    },
    "id": "FhgfHnodW2XX",
    "outputId": "be3dbe73-6098-4053-c6f5-59eefbdffed3"
   },
   "outputs": [],
   "source": [
    "matrix3=radint*fac_31pm1_32pm1\n",
    "print(\"M_26 = M_62 = M_48 = M_84 =\", matrix3)"
   ]
  },
  {
   "cell_type": "markdown",
   "metadata": {
    "id": "uW3shBkWI8ZE"
   },
   "source": [
    "\n",
    "\n",
    "# Plots"
   ]
  },
  {
   "cell_type": "code",
   "execution_count": null,
   "metadata": {
    "colab": {
     "base_uri": "https://localhost:8080/",
     "height": 501
    },
    "id": "Fl3Fp4PV0zWJ",
    "outputId": "73524d3e-14c7-4394-a70d-6a422adda95b"
   },
   "outputs": [],
   "source": [
    "import matplotlib.pyplot as plt\n",
    "import numpy as np\n",
    "\n",
    "fig = plt.figure(figsize=(12,8))\n",
    "r = np.arange(0,10,0.01)\n",
    "y1= -1/r\n",
    "y4= 6/r**2 \n",
    "plt.ylim(-20,20)\n",
    "y2= -r*np.cos(np.pi/6)\n",
    "y5= -r*np.cos(np.pi/4)\n",
    "y6 = -r*np.cos(np.pi/3)\n",
    "y7 = -r\n",
    "y11 = -r*np.cos((4/6)*np.pi)\n",
    "y12 = -r*np.cos((3/4)*np.pi)\n",
    "y13 = -r*np.cos((5/6)*np.pi)\n",
    "y14 = -r*np.cos(np.pi)\n",
    "y3= y1+y2+y4\n",
    "y8= y1+y4+y5\n",
    "y9= y1+y4+y6\n",
    "y10= y1+y4+y7\n",
    "y15= y1+y4+y11\n",
    "y16= y1+y4+y12\n",
    "y17= y1+y4+y13\n",
    "y18= y1+y4+y14\n",
    "\n",
    "plt.plot(r,y1+y4,label='Coulombic Potential',color='green', linestyle='dashed',markerfacecolor='blue', markersize=4)\n",
    "plt.plot(r,y10,label='Combined Effect including Potential due to External Electric Field (1 unit) at Polar Angle 0',color='purple',linestyle='dashed')\n",
    "plt.plot(r,y3,label='Polar Angle pi/6',color='orange',linestyle='dashed')\n",
    "plt.plot(r,y8,label='Polar Angle pi/4',color='blue',linestyle='dashed')\n",
    "plt.plot(r,y9,label='Polar Angle pi/3',color='red',linestyle='dashed')\n",
    "plt.plot(r,y15,label='Polar Angle 2pi/3',color='pink',linestyle='dashed')\n",
    "plt.plot(r,y16,label='Polar Angle 3pi/4',color='black',linestyle='dashed')\n",
    "plt.plot(r,y17,label='Polar Angle 5pi/6',color='maroon',linestyle='dashed')\n",
    "plt.plot(r,y18,label='Polar Angle pi',color='teal',linestyle='dashed')\n",
    "plt.xlabel('Separation')\n",
    "plt.ylabel('Energy')\n",
    "\n",
    "plt.legend(loc='bottom left',fontsize=9)\n",
    "\n",
    "plt.show()\n"
   ]
  },
  {
   "cell_type": "markdown",
   "metadata": {
    "id": "V2AX4YmTJJvH"
   },
   "source": [
    "# Calculating matrix eigenvalues and eigenvectors"
   ]
  },
  {
   "cell_type": "code",
   "execution_count": null,
   "metadata": {
    "colab": {
     "base_uri": "https://localhost:8080/"
    },
    "id": "tELImbmSPZxr",
    "outputId": "9ccc7223-44c4-4009-922f-8033306c4925"
   },
   "outputs": [],
   "source": [
    "import numpy as np\n",
    "from sympy import *\n",
    "\n",
    "M = Matrix([[0, 0, matrix1, 0, 0, 0, 0, 0, 0],\n",
    "            [0, 0, 0, 0, 0, matrix3, 0, 0, 0],\n",
    "\t\t\t\t\t\t[matrix1, 0, 0, 0, 0, 0, matrix2, 0, 0],\n",
    "\t\t\t\t\t\t[0, 0, 0, 0, 0, 0, 0, matrix3, 0],\n",
    "            [0, 0, 0, 0, 0, 0, 0, 0, 0],\n",
    "            [0, matrix3, 0, 0, 0, 0, 0, 0, 0],\n",
    "            [0, 0, matrix2, 0, 0, 0, 0, 0, 0],\n",
    "            [0, 0, 0, matrix3, 0, 0, 0, 0, 0],\n",
    "            [0, 0, 0, 0, 0, 0, 0, 0, 0]])\n",
    "     \n",
    "P, D = M.diagonalize()\n",
    "for i in range(9):\n",
    "  for j in range(9):\n",
    "    if abs(D[i,j]) < 1e-10:\n",
    "      D[i,j] = 0 \n",
    "print(D)\n",
    "print(M.eigenvects())"
   ]
  },
  {
   "cell_type": "code",
   "execution_count": null,
   "metadata": {
    "colab": {
     "base_uri": "https://localhost:8080/"
    },
    "id": "JM3SuPlhSqjB",
    "outputId": "3ccc3c3e-7339-4f26-8e11-4b916cd90072"
   },
   "outputs": [],
   "source": [
    "!pip install permutation\n",
    "\n",
    "from sympy import*\n",
    "from permutation import Permutation\n",
    "\n",
    "l = Symbol('lambda')\n",
    "r, s, t, u, v, w, x, y, z = symbols(\"r s t u v w x y z\")\n",
    "\n",
    "init_printing()\n",
    "M = Matrix([[-l, 0, matrix1, 0, 0, 0, 0], \n",
    "            [0, -l, 0, 0, matrix3, 0, 0],\n",
    "\t\t\t\t\t\t[matrix1, 0, -l, 0, 0, matrix2, 0],\n",
    "\t\t\t\t\t\t[0, 0, 0, -l, 0, 0, matrix3],\n",
    "            [0, matrix3, 0, 0, -l, 0, 0],\n",
    "            [0, 0, matrix2, 0, 0, -l, 0],\n",
    "            [0, 0, 0, matrix3, 0, 0, -l]])\n",
    "\n",
    "sum = 0\n",
    "for p in Permutation.group(7): \n",
    "  product = 1\n",
    "  for i in range(7):\n",
    "    product = product*M[i, p(i+1)-1] \n",
    "  if p.is_odd:\n",
    "    product = product*(-1)\n",
    "  sum = sum+product\n",
    "\n",
    "print(\"Characteristic polynomial is:\", sum) \n",
    "print('\\n')\n",
    "\n",
    "sum = -sum/l \n",
    "\n",
    "r1 = 1 \n",
    "r2 = 2\n",
    "r3 = 3\n",
    "r4 = -1\n",
    "r5 = -2\n",
    "r6 = -3\n",
    "\n",
    "\n",
    "d1 = (l-r2)*(l-r3)*(l-r4)*(l-r5)*(l-r6)\n",
    "d2 = (l-r1)*(l-r3)*(l-r4)*(l-r5)*(l-r6)\n",
    "d3 = (l-r2)*(l-r1)*(l-r4)*(l-r5)*(l-r6)\n",
    "d4 = (l-r2)*(l-r3)*(l-r1)*(l-r5)*(l-r6)\n",
    "d5 = (l-r2)*(l-r3)*(l-r4)*(l-r1)*(l-r6)\n",
    "d6 = (l-r2)*(l-r3)*(l-r4)*(l-r5)*(l-r1)\n",
    "\n",
    "terminate = np.zeros(6, dtype=int)\n",
    "\n",
    "for i in range(30):\n",
    "  d1 = (l-r2)*(l-r3)*(l-r4)*(l-r5)*(l-r6)\n",
    "  if abs((sum.subs(l, r1)/r1*d1.subs(l, r1)))<0.00001:\n",
    "    terminate[0] = 1\n",
    "  r1 = r1-(sum.subs(l, r1)/d1.subs(l, r1))\n",
    "  d2 = (l-r1)*(l-r3)*(l-r4)*(l-r5)*(l-r6)\n",
    "  if abs((sum.subs(l, r2)/r2*d2.subs(l, r2)))<0.00001:\n",
    "    terminate[1] = 1\n",
    "  r2 = r2-(sum.subs(l, r2)/d2.subs(l, r2))\n",
    "  d3 = (l-r2)*(l-r1)*(l-r4)*(l-r5)*(l-r6)\n",
    "  if abs((sum.subs(l, r3)/r3*d3.subs(l, r3)))<0.00001:\n",
    "    terminate[2] = 1         \n",
    "  r3 = r3-(sum.subs(l, r3)/d3.subs(l, r3))\n",
    "  d4 = (l-r2)*(l-r3)*(l-r1)*(l-r5)*(l-r6)\n",
    "  if abs((sum.subs(l, r4)/r4*d4.subs(l, r4)))<0.00001:\n",
    "    terminate[3] = 1\n",
    "  r4 = r4-(sum.subs(l, r4)/d4.subs(l, r4))\n",
    "  d5 = (l-r2)*(l-r3)*(l-r4)*(l-r1)*(l-r6)\n",
    "  if abs((sum.subs(l, r5)/r5*d5.subs(l, r5)))<0.00001:\n",
    "    terminate[4] = 1\n",
    "  r5 = r5-(sum.subs(l, r5)/d5.subs(l, r5))\n",
    "  d6 = (l-r2)*(l-r3)*(l-r4)*(l-r5)*(l-r1)\n",
    "  if abs((sum.subs(l, r6)/r6*d6.subs(l, r6)))<0.00001:\n",
    "    terminate[5] = 1\n",
    "  r6 = r6-(sum.subs(l, r6)/d6.subs(l, r6))\n",
    "  if i%5 == 0:\n",
    "    print(r1)\n",
    "    print(r2)\n",
    "    print(r3)\n",
    "    print(r4)\n",
    "    print(r5)\n",
    "    print(r6)\n",
    "    print('\\n')\n",
    "  is_all_one = np.all((terminate == 1))\n",
    "  if is_all_one:\n",
    "    print(r1)\n",
    "    print(r2)\n",
    "    print(r3)\n",
    "    print(r4)\n",
    "    print(r5)\n",
    "    print(r6)\n",
    "    print('\\n')\n",
    "    break\n",
    "\n",
    "print(\"Eigenvalues of the perturbation matrix are: \")\n",
    "print(\"0\")\n",
    "print(\"0\")\n",
    "print(\"0\")\n",
    "print(float(\"{:.3f}\".format(r1)))\n",
    "print(float(\"{:.3f}\".format(r2)))\n",
    "print(float(\"{:.3f}\".format(r3)))\n",
    "print(float(\"{:.3f}\".format(r4)))\n",
    "print(float(\"{:.3f}\".format(r5)))\n",
    "print(float(\"{:.3f}\".format(r6)))\n",
    "print('\\n')\n",
    "\n",
    "print('This rounding-off is because we want plus and minus roots for we have a polynomial of definite parity. So if r is a root, so is -r.')\n",
    "print('Also note that the precision of 3 decimal points is consistent with the truncation we made while calculating matrix elements.')\n",
    "print('\\n')\n",
    "\n",
    "M = Matrix([[0, 0, matrix1, 0, 0, 0, 0, 0, 0],\n",
    "            [0, 0, 0, 0, 0, matrix3, 0, 0, 0],\n",
    "\t\t\t\t\t\t[matrix1, 0, 0, 0, 0, 0, matrix2, 0, 0],\n",
    "\t\t\t\t\t\t[0, 0, 0, 0, 0, 0, 0, matrix3, 0],\n",
    "            [0, 0, 0, 0, 0, 0, 0, 0, 0],\n",
    "            [0, matrix3, 0, 0, 0, 0, 0, 0, 0],\n",
    "            [0, 0, matrix2, 0, 0, 0, 0, 0, 0],\n",
    "            [0, 0, 0, matrix3, 0, 0, 0, 0, 0],\n",
    "            [0, 0, 0, 0, 0, 0, 0, 0, 0]])\n",
    "\n",
    "X = Matrix([r, s, t, u, v, w, x, y, z])\n",
    "for k in range(9):\n",
    "  print(X[k])\n",
    "print('\\n')\n",
    "print('The above is the column vector for which we solve the eigenvalue equation MX = lX.')\n",
    "print('\\n')\n",
    "MX = zeros(9)\n",
    "for i in range(9):\n",
    "  for j in range(9):\n",
    "    MX[i] = MX[i]+M[i, j]*X[j]\n",
    "\n",
    "print('L.H.S in eigenvalue equation:')\n",
    "for k in range(9):\n",
    "  print(MX[k])\n",
    "print('\\n')\n",
    "\n",
    "print('R.H.S correspoding to zero eigenvalue:')\n",
    "for k in range(9):\n",
    "  print(0)\n",
    "print('\\n')\n",
    "\n",
    "print('Two of the linearly independent eigenvectors are simply psi_5 and psi_9.')\n",
    "ratio = -M[2, 0]/M[2, 6]\n",
    "print('The third linearly independent eigenvector is psi_1 -', -1*ratio, 'psi_7.')\n",
    "print('\\n')\n",
    "\n",
    "print('L.H.S in eigenvalue equation:')\n",
    "for k in range(9):\n",
    "  print(MX[k])\n",
    "print('\\n')\n",
    "\n",
    "print('R.H.S. corresponding to eigenvalue 9: ')\n",
    "for k in range(9):\n",
    "  print(9*X[k])\n",
    "print('\\n')\n",
    "ratio = M[0, 2]/9\n",
    "print('We have r =', ratio,'t.')\n",
    "ratio2 = M[6, 2]/9\n",
    "print('Also, x =', ratio2,'t.')\n",
    "r = ratio**2+ratio2**2\n",
    "print('This gives us t =', r, 't, that is t=t (not exact because of precision limit).')\n",
    "print('Comparing coefficients of s, w and u, y we get s = 4s, w = 4w, u = 4u and y = 4y. So s = w = u = y = 0. We also get v = z = 0.')\n",
    "print('Eigenvector is psi_3 +', ratio, 'psi_1 +', ratio2, 'psi_7.')\n",
    "print('Similarly for eigenvalue -9, the vector is psi_3 -', ratio, 'psi_1 -', ratio2, 'psi_7.')\n",
    "print('\\n')\n",
    "\n",
    "print('L.H.S in eigenvalue equation:')\n",
    "for k in range(9):\n",
    "  print(MX[k])\n",
    "print('\\n')\n",
    "\n",
    "print('R.H.S. corresponding to eigenvalue 4.5: ')\n",
    "for k in range(9):\n",
    "  print(4.5*X[k])\n",
    "print('\\n')\n",
    "\n",
    "print('Comparing coefficients of s, w and u, y we conclude s = w and y = u.')\n",
    "print('We have x =', ratio*2,'t.')\n",
    "print('Also, r =', ratio2*2,'t.')\n",
    "r = 4*(ratio**2+ratio2**2)\n",
    "print('But this gives us t =', r, 't, which means t = x = r = 0.')\n",
    "print('Thus the two linearly independent eigenvectors are psi_2 + psi_6 and psi_4 + psi_8.')\n",
    "print('Similarly for eigenvalue -4.5, we have psi_2 - psi_6 and psi_4 - psi_8.')"
   ]
  },
  {
   "cell_type": "markdown",
   "metadata": {
    "id": "KX29_QMXJrgm"
   },
   "source": [
    "# Zeeman effect"
   ]
  },
  {
   "cell_type": "code",
   "execution_count": null,
   "metadata": {
    "id": "k_YvPk0fS8_w"
   },
   "outputs": [],
   "source": [
    "from sympy import *"
   ]
  },
  {
   "cell_type": "code",
   "execution_count": null,
   "metadata": {
    "id": "B54T3XllyUPY"
   },
   "outputs": [],
   "source": [
    "def ifz_matrix(g, b):\n",
    "  H_perturb_negative = Matrix([[5*g-b, 0, 0, 0, 0, 0, 0, 0],\n",
    "                    [0, 5*g+b, 0, 0, 0, 0, 0, 0],\n",
    "\t\t\t\t\t\t        [0, 0, g-2*b, 0, 0, 0, 0, 0],\n",
    "\t\t\t\t\t\t        [0, 0, 0, g+2*b, 0, 0, 0, 0],\n",
    "                    [0, 0, 0, 0, g-2*b/3, sqrt(2)*b/3, 0, 0],\n",
    "                    [0, 0, 0, 0, sqrt(2)*b/3, 5*g-b/3, 0, 0],\n",
    "                    [0, 0, 0, 0, 0, 0, g+2*b/3, sqrt(2)*b/3],\n",
    "                    [0, 0, 0, 0, 0, 0, sqrt(2)*b/3, 5*g+b/3]])\n",
    "  return H_perturb_negative"
   ]
  },
  {
   "cell_type": "code",
   "execution_count": null,
   "metadata": {
    "id": "SGYlvwaYciR1"
   },
   "outputs": [],
   "source": [
    "import math as mth\n",
    "def eigenvalues(array):\n",
    "  det = array[0][0]*array[1][1]-array[0][1]*array[1][0]\n",
    "  tr = array[0][0] + array[1][1] \n",
    "  e1 = (tr + mth.sqrt(tr*tr-4*det))/2\n",
    "  e2 = (tr - mth.sqrt(tr*tr-4*det))/2\n",
    "  return e1, e2"
   ]
  },
  {
   "cell_type": "code",
   "execution_count": null,
   "metadata": {
    "colab": {
     "base_uri": "https://localhost:8080/"
    },
    "id": "SRMJwupoU4O5",
    "outputId": "5190db12-0e0d-4534-8d50-9d17214dca01"
   },
   "outputs": [],
   "source": [
    "mag_field = float(input('Enter the value of magnetic field (in T): '))\n",
    "alpha = 1/137\n",
    "beta1 = 5.7883818012*10**-5*mag_field\n",
    "gamma1 = -13.6*(alpha**2)/64"
   ]
  },
  {
   "cell_type": "code",
   "execution_count": null,
   "metadata": {
    "colab": {
     "base_uri": "https://localhost:8080/"
    },
    "id": "TMy0g29whezF",
    "outputId": "6c1321ef-9248-40d1-86ab-bb7aceffe50f"
   },
   "outputs": [],
   "source": [
    "A=[[gamma1-2*beta1/3, sqrt(2)*beta1/3],\n",
    "   [sqrt(2)*beta1/3, 5*gamma1-beta1/3]]\n",
    "b = eigenvalues(A)\n",
    "A1=[[gamma1+2*beta1/3, sqrt(2)*beta1/3],\n",
    "   [sqrt(2)*beta1/3, 5*gamma1+beta1/3]]\n",
    "b1 = eigenvalues(A1)\n",
    "eval1=5*gamma1-beta1\n",
    "eval2=5*gamma1+beta1\n",
    "eval3=gamma1-2*beta1\n",
    "eval4=gamma1-2*beta1\n",
    "print('Shifts in energy are: \\n' , -1*eval1, '\\n' , -1*eval2, '\\n' , -1*eval3, '\\n' , -1*eval4, '\\n' , -1*b[0], '\\n' , -1*b[1],  '\\n', -1*b1[0], '\\n', -1*b1[1] )"
   ]
  },
  {
   "cell_type": "markdown",
   "metadata": {
    "id": "ttZq2ljQNCR1"
   },
   "source": [
    "#QR Decomposition Algorithm"
   ]
  },
  {
   "cell_type": "code",
   "execution_count": null,
   "metadata": {
    "colab": {
     "base_uri": "https://localhost:8080/"
    },
    "id": "Krmjq5_8UlER",
    "outputId": "33e26483-820e-4407-edc6-c009b2180cfa"
   },
   "outputs": [],
   "source": [
    "import numpy as np\n",
    "\n",
    "def qr_decomp_alg(matrix_org, debug=False):\n",
    "    \"\"\"\n",
    "    b1 = a1, b2 = a2 - kb1, b3 = a3 - k1b1 - k2b2\n",
    "    :param matrix_org: m x n matrix, m >= n and full rank\n",
    "    :return:\n",
    "    \"\"\"\n",
    "    m, n = matrix_org.shape\n",
    "    matrix_ortho = matrix_org.copy()\n",
    "    matrix_ortho = np.asarray(matrix_ortho, dtype=np.float)\n",
    "    coefficient = np.zeros(shape=(m, n)) \n",
    "    coefficient[0, 0] = 1 \n",
    "\n",
    "    for i in range(1, n): \n",
    "        coefficient[i, i] = 1\n",
    "        for j in range(i):\n",
    "            b_j = matrix_ortho[:, j]\n",
    "            k_j = np.dot(b_j, matrix_org[:, i]) / np.dot(b_j, b_j)\n",
    "            coefficient[j, i] = k_j\n",
    "            matrix_ortho[:, i] = matrix_ortho[:, i]-(k_j * b_j)\n",
    "\n",
    "    for i in range(n):\n",
    "        divider = np.dot(matrix_ortho[:, i], matrix_ortho[:, i])\n",
    "        if abs(divider) < 1e-16:  \n",
    "            matrix_ortho[:, i] *= 0\n",
    "        else:\n",
    "            divider = np.sqrt(divider)\n",
    "            matrix_ortho[:, i] /= divider\n",
    "            coefficient[i, :] *= divider\n",
    "\n",
    "    return matrix_ortho, coefficient\n",
    "\n",
    "A2 = np.array(A)\n",
    "\n",
    "for i in range(100):\n",
    "  q, r = qr_decomp_alg(A2)\n",
    "  A2 = np.dot(r, q)\n",
    "\n",
    "print(A2)\n",
    "print('\\n')\n",
    "print('The bottom left element is practically zero (precision) compared to the other entries.')\n",
    "A2[1][0] = 0\n",
    "print('\\n')\n",
    "print(A2)\n",
    "print('\\n')\n",
    "print('Since the matrix is in upper triangular form, the eigenvalues are the diagonal elements, that is:')\n",
    "print(A2[0][0])\n",
    "print(A2[1][1])\n",
    "print('\\n')\n",
    "A3 = np.array(A1)\n",
    "\n",
    "for i in range(100):\n",
    "  q, r = qr_decomp_alg(A3)\n",
    "  A3 = np.dot(r, q)\n",
    "\n",
    "print(A3)\n",
    "print('\\n')\n",
    "print('The bottom left element is practically zero (precision) compared to the other entries.')\n",
    "A3[1][0] = 0\n",
    "print('\\n')\n",
    "print(A3)\n",
    "print('Since the matrix is in upper triangular form, the eigenvalues are the diagonal elements, that is:')\n",
    "print(A3[0][0])\n",
    "print(A3[1][1])\n",
    "print('\\n')\n",
    "\n",
    "print('Shifts in energy are: \\n' , -1*eval1, '\\n' ,-1*eval2, '\\n' , -1*eval3, '\\n' , -1*eval4, '\\n' , -1*A2[0][0], '\\n' , -1*A2[1][1],  '\\n', -1*A3[0][0], '\\n', -1*A3[1][1] )\n"
   ]
  }
 ],
 "metadata": {
  "colab": {
   "collapsed_sections": [],
   "name": "Stark&ZeemanEffectCalculations",
   "provenance": []
  },
  "kernelspec": {
   "display_name": "Python 3",
   "language": "python",
   "name": "python3"
  },
  "language_info": {
   "codemirror_mode": {
    "name": "ipython",
    "version": 3
   },
   "file_extension": ".py",
   "mimetype": "text/x-python",
   "name": "python",
   "nbconvert_exporter": "python",
   "pygments_lexer": "ipython3",
   "version": "3.7.9"
  }
 },
 "nbformat": 4,
 "nbformat_minor": 1
}
